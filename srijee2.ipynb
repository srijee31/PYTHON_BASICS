{
  "nbformat": 4,
  "nbformat_minor": 0,
  "metadata": {
    "colab": {
      "provenance": [],
      "authorship_tag": "ABX9TyMA7Fx4Tn8au0Gm08z4ur5K",
      "include_colab_link": true
    },
    "kernelspec": {
      "name": "python3",
      "display_name": "Python 3"
    },
    "language_info": {
      "name": "python"
    }
  },
  "cells": [
    {
      "cell_type": "markdown",
      "metadata": {
        "id": "view-in-github",
        "colab_type": "text"
      },
      "source": [
        "<a href=\"https://colab.research.google.com/github/srijee31/PYTHON_BASICS/blob/day1/srijee2.ipynb\" target=\"_parent\"><img src=\"https://colab.research.google.com/assets/colab-badge.svg\" alt=\"Open In Colab\"/></a>"
      ]
    },
    {
      "cell_type": "code",
      "source": [
        "#grading system.\n",
        "name=input(\"Enter your name: \")\n",
        "print(\"Hello \",name ,\" please enter your marks\")\n",
        "mark= int(input())\n",
        "if mark < 100 and mark > 90:\n",
        "    print(\"Your grade is A+\")\n",
        "elif mark < 90 and mark > 75:\n",
        "    print(\"Your grade is A\")\n",
        "elif mark < 70:\n",
        "    print(\"Your grade is C\")\n",
        "elif mark < 60:\n",
        "    print(\"Your grade is D\")\n"
      ],
      "metadata": {
        "colab": {
          "base_uri": "https://localhost:8080/"
        },
        "id": "JYFvMYq__goT",
        "outputId": "129b5284-0964-4401-bb8a-638b13ed16e9"
      },
      "execution_count": null,
      "outputs": [
        {
          "output_type": "stream",
          "name": "stdout",
          "text": [
            "Enter your name: srijeeth\n",
            "Hello  srijeeth  please enter your marks\n",
            "88\n",
            "Your grade is A\n"
          ]
        }
      ]
    },
    {
      "cell_type": "code",
      "source": [],
      "metadata": {
        "id": "z4L2HeK45i1_"
      },
      "execution_count": null,
      "outputs": []
    },
    {
      "cell_type": "code",
      "source": [
        "# Predefined username and password\n",
        "correct_username = \"srijee31\"\n",
        "correct_password = \"sri.zxcvb\"\n",
        "\n",
        "# Taking input from user\n",
        "username = input(\"Enter your username: \")\n",
        "password = input(\"Enter your password: \")\n",
        "\n",
        "# Checking credentials\n",
        "if username == correct_username:\n",
        "    if password == correct_password:\n",
        "        print(\" Login successful! Welcome,\", username)\n",
        "    else:\n",
        "        print(\" Incorrect password. Try again.\")\n",
        "else:\n",
        "    print(\" Invalid username. Access denied.\")\n"
      ],
      "metadata": {
        "colab": {
          "base_uri": "https://localhost:8080/"
        },
        "id": "EjZD-v3roNjj",
        "outputId": "fc987f92-f5bd-4963-cd0e-46895301735e"
      },
      "execution_count": null,
      "outputs": [
        {
          "output_type": "stream",
          "name": "stdout",
          "text": [
            "Enter your username: sr\n",
            "Enter your password: hssjks\n",
            "❌ Invalid username. Access denied.\n"
          ]
        }
      ]
    },
    {
      "cell_type": "code",
      "source": [
        "# odd or even number\n",
        "\n",
        "print(\"Enter a number: \")\n",
        "num=int(input())\n",
        "if num%2==0:\n",
        "  print(\"Even number\")\n",
        "else:\n",
        "  print(\"ODD number\")"
      ],
      "metadata": {
        "colab": {
          "base_uri": "https://localhost:8080/"
        },
        "id": "6hRZUSNU20hi",
        "outputId": "dc2ab368-06d0-47ef-a8d5-066789f479f9"
      },
      "execution_count": null,
      "outputs": [
        {
          "output_type": "stream",
          "name": "stdout",
          "text": [
            "Enter a number: \n",
            "555\n",
            "ODD number\n"
          ]
        }
      ]
    },
    {
      "cell_type": "code",
      "source": [
        "#Eligibility checker for blood donation\n",
        "\n",
        "print(\"Enter your age to donate blood\")\n",
        "age=int(input())\n",
        "if age >= 18:\n",
        "  print(\"You are elligible for donating blood, congrats\")\n",
        "else:\n",
        "  print(\"You are not elligible for donating blood, sorry \")\n"
      ],
      "metadata": {
        "colab": {
          "base_uri": "https://localhost:8080/"
        },
        "id": "xjBM_ulL4BlP",
        "outputId": "ba774283-1034-48dd-ab9a-f2a1c35c45dc"
      },
      "execution_count": null,
      "outputs": [
        {
          "output_type": "stream",
          "name": "stdout",
          "text": [
            "Enter your age to donate blood\n",
            "20\n",
            "You are elligible for donating blood, congrats\n"
          ]
        }
      ]
    }
  ]
}