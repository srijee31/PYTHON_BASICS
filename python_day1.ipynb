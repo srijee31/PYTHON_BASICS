{
  "nbformat": 4,
  "nbformat_minor": 0,
  "metadata": {
    "colab": {
      "provenance": [],
      "authorship_tag": "ABX9TyPRErgl6Pn/h6rZFMWhbvO/",
      "include_colab_link": true
    },
    "kernelspec": {
      "name": "python3",
      "display_name": "Python 3"
    },
    "language_info": {
      "name": "python"
    }
  },
  "cells": [
    {
      "cell_type": "markdown",
      "metadata": {
        "id": "view-in-github",
        "colab_type": "text"
      },
      "source": [
        "<a href=\"https://colab.research.google.com/github/srijee31/PYTHON_BASICS/blob/main/python_day1.ipynb\" target=\"_parent\"><img src=\"https://colab.research.google.com/assets/colab-badge.svg\" alt=\"Open In Colab\"/></a>"
      ]
    },
    {
      "cell_type": "code",
      "execution_count": 12,
      "metadata": {
        "colab": {
          "base_uri": "https://localhost:8080/"
        },
        "id": "kxSpnc5Bm-oR",
        "outputId": "29b79863-ca69-405e-8a1a-a4c2a907498c"
      },
      "outputs": [
        {
          "output_type": "stream",
          "name": "stdout",
          "text": [
            "Enter the kilometers travelled by the bike in 2 hours: 9.8\n",
            "The km converted to mtr is :  9800.0 m\n"
          ]
        }
      ],
      "source": [
        "km= float(input(\"Enter the kilometers travelled by the bike in 2 hours: \"))\n",
        "m= km * 1000\n",
        "print(\"The km converted to mtr is : \",m,\"m\")"
      ]
    },
    {
      "cell_type": "code",
      "source": [
        "x = 10\n",
        "y = 5\n",
        "\n",
        "# Comparison\n",
        "print(x > y)   # True\n",
        "print(x == y)  # False\n",
        "\n",
        "# Logical\n",
        "print(x > 5 and y < 10)  # True\n",
        "print(x > 20 or y < 10)  # True\n",
        "print(not x == y)        # True\n"
      ],
      "metadata": {
        "colab": {
          "base_uri": "https://localhost:8080/"
        },
        "id": "neN5YhX-yuw3",
        "outputId": "045759fd-182e-48eb-9a28-7158165fc76b"
      },
      "execution_count": 13,
      "outputs": [
        {
          "output_type": "stream",
          "name": "stdout",
          "text": [
            "True\n",
            "False\n",
            "True\n",
            "True\n",
            "True\n"
          ]
        }
      ]
    },
    {
      "cell_type": "code",
      "source": [
        "\n",
        "\n",
        "a = \"5\"\n",
        "b = \"3\"\n",
        "# Convert strings to int\n",
        "sum = int(a) + int(b)\n",
        "print(\"Sum:\", sum)\n",
        "\n",
        "# Convert float to int\n",
        "price = 9.99\n",
        "print(\"Rounded price:\", int(price))"
      ],
      "metadata": {
        "colab": {
          "base_uri": "https://localhost:8080/"
        },
        "id": "ioO_ZFzPy8kt",
        "outputId": "d10c7832-8541-49b9-e069-6a8ea7469d71"
      },
      "execution_count": 15,
      "outputs": [
        {
          "output_type": "stream",
          "name": "stdout",
          "text": [
            "Sum: 8\n",
            "Rounded price: 9\n"
          ]
        }
      ]
    },
    {
      "cell_type": "code",
      "source": [
        "from ast import operator\n",
        "#simple calculator\n",
        "\n",
        "print(\"My caluclator\")\n",
        "print(\"--------------\")\n",
        "num1 = float(input(\"Enter the first number: \"))\n",
        "num2 = float(input(\"Enter the second number: \"))\n",
        "print(\"Chose the operator: ( +, -, *, /)\")\n",
        "operator = input(\"Enter the operator: \")\n",
        "if operator == \"+\":\n",
        "  print(num1 + num2)\n",
        "elif operator == \"-\":\n",
        "  print(num1 - num2)\n",
        "elif operator == \"*\":\n",
        "  print(num1 * num2)\n",
        "elif   operator == \"/\":\n",
        "  print(num1 / num2)\n",
        "else:\n",
        "  print(\"Invalid operator\")\n",
        "\n"
      ],
      "metadata": {
        "colab": {
          "base_uri": "https://localhost:8080/"
        },
        "id": "h8BQ2088z1L6",
        "outputId": "a47f230f-e0e4-4b5d-e4ad-1648f7a93e67"
      },
      "execution_count": 25,
      "outputs": [
        {
          "output_type": "stream",
          "name": "stdout",
          "text": [
            "My caluclator\n",
            "--------------\n",
            "Enter the first number: 36\n",
            "Enter the second number: 9\n",
            "Chose the operator: ( +, -, *, /)\n",
            "Enter the operator: /\n",
            "4.0\n"
          ]
        }
      ]
    },
    {
      "cell_type": "code",
      "source": [
        "print(\"What can i do for you??\")\n",
        "print(\"Select the following tasks:\")\n",
        "print(\"1.Covert Km to m\")\n",
        "print(\"2.Perform simple calculations\")\n",
        "print(\"Choose 1 or 2\")\n",
        "choose= int(input(\"Enter the choice: \"))\n",
        "if  choose == 1:\n",
        "    km= float(input(\"Enter the kilometers travelled by the bike in 2 hours: \"))\n",
        "    m= km * 1000\n",
        "    print(\"The km converted to mtr is : \",m,\"m\")\n",
        "\n",
        "elif choose == 2:\n",
        "      num1 = float(input(\"Enter the first number: \"))\n",
        "      num2 = float(input(\"Enter the second number: \"))\n",
        "      print(\"Chose the operator: ( +, -, *, /)\")\n",
        "      operator = input(\"Enter the operator: \")\n",
        "      if operator == \"+\":\n",
        "          print(num1 + num2)\n",
        "      elif operator == \"-\":\n",
        "          print(num1 - num2)\n",
        "      elif operator == \"*\":\n",
        "          print(num1 * num2)\n",
        "      elif   operator == \"/\":\n",
        "          print(num1 / num2)\n",
        "      else:\n",
        "          print(\"Invalid operator\")\n",
        "else:\n",
        "    print(\"Invalid choice\")"
      ],
      "metadata": {
        "colab": {
          "base_uri": "https://localhost:8080/"
        },
        "id": "LIvUaOkp3DMI",
        "outputId": "b431322d-0af7-4197-bf54-a4d611f1d606"
      },
      "execution_count": 56,
      "outputs": [
        {
          "output_type": "stream",
          "name": "stdout",
          "text": [
            "What can i do for you??\n",
            "Select the following tasks:\n",
            "1.Covert Km to m\n",
            "2.Perform simple calculations\n",
            "Choose 1 or 2\n",
            "Enter the choice: 2\n",
            "Enter the first number: 5\n",
            "Enter the second number: 7\n",
            "Chose the operator: ( +, -, *, /)\n",
            "Enter the operator: -\n",
            "-2.0\n"
          ]
        }
      ]
    }
  ]
}